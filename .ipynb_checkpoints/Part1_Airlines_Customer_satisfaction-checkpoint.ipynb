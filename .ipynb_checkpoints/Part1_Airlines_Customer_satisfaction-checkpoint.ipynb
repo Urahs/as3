{
 "cells": [
  {
   "cell_type": "markdown",
   "id": "df642ba5",
   "metadata": {
    "_cell_guid": "b1076dfc-b9ad-4769-8c92-a6c4dae69d19",
    "_uuid": "8f2839f25d086af736a60e9eeb907d3b93b6e0e5",
    "execution": {
     "iopub.execute_input": "2021-10-30T13:27:01.266289Z",
     "iopub.status.busy": "2021-10-30T13:27:01.265203Z",
     "iopub.status.idle": "2021-10-30T13:27:01.278384Z",
     "shell.execute_reply": "2021-10-30T13:27:01.278900Z",
     "shell.execute_reply.started": "2021-10-30T13:15:31.469103Z"
    },
    "papermill": {
     "duration": 0.049396,
     "end_time": "2021-10-30T13:27:01.279235",
     "exception": false,
     "start_time": "2021-10-30T13:27:01.229839",
     "status": "completed"
    },
    "tags": []
   },
   "source": [
    "# Part 1: Airlines Customer Satisfaction Classification"
   ]
  },
  {
   "cell_type": "code",
   "execution_count": 1,
   "id": "8f72eece",
   "metadata": {},
   "outputs": [],
   "source": [
    "import numpy as np # linear algebra\n",
    "import pandas as pd # data processing, CSV file I/O (e.g. pd.read_csv)"
   ]
  },
  {
   "cell_type": "code",
   "execution_count": 2,
   "id": "378a7fe6",
   "metadata": {
    "execution": {
     "iopub.execute_input": "2021-10-30T13:27:01.329558Z",
     "iopub.status.busy": "2021-10-30T13:27:01.328524Z",
     "iopub.status.idle": "2021-10-30T13:27:02.403976Z",
     "shell.execute_reply": "2021-10-30T13:27:02.403261Z",
     "shell.execute_reply.started": "2021-10-30T13:15:31.504288Z"
    },
    "papermill": {
     "duration": 1.102209,
     "end_time": "2021-10-30T13:27:02.404126",
     "exception": false,
     "start_time": "2021-10-30T13:27:01.301917",
     "status": "completed"
    },
    "tags": []
   },
   "outputs": [],
   "source": [
    "#Libraries\n",
    "from sklearn.preprocessing import LabelEncoder\n",
    "from sklearn.preprocessing import Normalizer\n",
    "from sklearn.model_selection import train_test_split\n",
    "from sklearn.linear_model import LogisticRegression"
   ]
  },
  {
   "cell_type": "markdown",
   "id": "90337c60",
   "metadata": {
    "papermill": {
     "duration": 0.021306,
     "end_time": "2021-10-30T13:27:02.447403",
     "exception": false,
     "start_time": "2021-10-30T13:27:02.426097",
     "status": "completed"
    },
    "tags": []
   },
   "source": [
    "In this example you'll see how to use machine learning algorithm to classify the flight experience of a customer as 'Satisfied' or 'Dissatisfied'. To do this we need data. Let's read our data and start our journey."
   ]
  },
  {
   "cell_type": "code",
   "execution_count": 3,
   "id": "c2613d96",
   "metadata": {
    "execution": {
     "iopub.execute_input": "2021-10-30T13:27:02.495634Z",
     "iopub.status.busy": "2021-10-30T13:27:02.495002Z",
     "iopub.status.idle": "2021-10-30T13:27:02.994187Z",
     "shell.execute_reply": "2021-10-30T13:27:02.993566Z",
     "shell.execute_reply.started": "2021-10-30T13:15:32.437129Z"
    },
    "papermill": {
     "duration": 0.525344,
     "end_time": "2021-10-30T13:27:02.994351",
     "exception": false,
     "start_time": "2021-10-30T13:27:02.469007",
     "status": "completed"
    },
    "tags": []
   },
   "outputs": [
    {
     "data": {
      "text/html": [
       "<div>\n",
       "<style scoped>\n",
       "    .dataframe tbody tr th:only-of-type {\n",
       "        vertical-align: middle;\n",
       "    }\n",
       "\n",
       "    .dataframe tbody tr th {\n",
       "        vertical-align: top;\n",
       "    }\n",
       "\n",
       "    .dataframe thead th {\n",
       "        text-align: right;\n",
       "    }\n",
       "</style>\n",
       "<table border=\"1\" class=\"dataframe\">\n",
       "  <thead>\n",
       "    <tr style=\"text-align: right;\">\n",
       "      <th></th>\n",
       "      <th>Gender</th>\n",
       "      <th>Customer Type</th>\n",
       "      <th>Age</th>\n",
       "      <th>Type of Travel</th>\n",
       "      <th>Class</th>\n",
       "      <th>Flight Distance</th>\n",
       "      <th>Seat comfort</th>\n",
       "      <th>Departure/Arrival time convenient</th>\n",
       "      <th>Food and drink</th>\n",
       "      <th>Gate location</th>\n",
       "      <th>...</th>\n",
       "      <th>Ease of Online booking</th>\n",
       "      <th>On-board service</th>\n",
       "      <th>Leg room service</th>\n",
       "      <th>Baggage handling</th>\n",
       "      <th>Checkin service</th>\n",
       "      <th>Cleanliness</th>\n",
       "      <th>Online boarding</th>\n",
       "      <th>Departure Delay in Minutes</th>\n",
       "      <th>Arrival Delay in Minutes</th>\n",
       "      <th>satisfaction</th>\n",
       "    </tr>\n",
       "  </thead>\n",
       "  <tbody>\n",
       "    <tr>\n",
       "      <th>0</th>\n",
       "      <td>Female</td>\n",
       "      <td>Loyal Customer</td>\n",
       "      <td>65</td>\n",
       "      <td>Personal Travel</td>\n",
       "      <td>Eco</td>\n",
       "      <td>360</td>\n",
       "      <td>4</td>\n",
       "      <td>4</td>\n",
       "      <td>4</td>\n",
       "      <td>4</td>\n",
       "      <td>...</td>\n",
       "      <td>5</td>\n",
       "      <td>5</td>\n",
       "      <td>5</td>\n",
       "      <td>5</td>\n",
       "      <td>3</td>\n",
       "      <td>5</td>\n",
       "      <td>3</td>\n",
       "      <td>0</td>\n",
       "      <td>0.0</td>\n",
       "      <td>satisfied</td>\n",
       "    </tr>\n",
       "    <tr>\n",
       "      <th>1</th>\n",
       "      <td>Male</td>\n",
       "      <td>Loyal Customer</td>\n",
       "      <td>13</td>\n",
       "      <td>Personal Travel</td>\n",
       "      <td>Eco</td>\n",
       "      <td>2991</td>\n",
       "      <td>1</td>\n",
       "      <td>5</td>\n",
       "      <td>1</td>\n",
       "      <td>4</td>\n",
       "      <td>...</td>\n",
       "      <td>5</td>\n",
       "      <td>4</td>\n",
       "      <td>2</td>\n",
       "      <td>4</td>\n",
       "      <td>3</td>\n",
       "      <td>4</td>\n",
       "      <td>5</td>\n",
       "      <td>0</td>\n",
       "      <td>5.0</td>\n",
       "      <td>dissatisfied</td>\n",
       "    </tr>\n",
       "    <tr>\n",
       "      <th>2</th>\n",
       "      <td>Female</td>\n",
       "      <td>Loyal Customer</td>\n",
       "      <td>58</td>\n",
       "      <td>Business travel</td>\n",
       "      <td>Business</td>\n",
       "      <td>1903</td>\n",
       "      <td>3</td>\n",
       "      <td>3</td>\n",
       "      <td>3</td>\n",
       "      <td>3</td>\n",
       "      <td>...</td>\n",
       "      <td>3</td>\n",
       "      <td>3</td>\n",
       "      <td>3</td>\n",
       "      <td>3</td>\n",
       "      <td>1</td>\n",
       "      <td>3</td>\n",
       "      <td>4</td>\n",
       "      <td>0</td>\n",
       "      <td>0.0</td>\n",
       "      <td>dissatisfied</td>\n",
       "    </tr>\n",
       "    <tr>\n",
       "      <th>3</th>\n",
       "      <td>Female</td>\n",
       "      <td>disloyal Customer</td>\n",
       "      <td>27</td>\n",
       "      <td>Business travel</td>\n",
       "      <td>Business</td>\n",
       "      <td>2813</td>\n",
       "      <td>4</td>\n",
       "      <td>4</td>\n",
       "      <td>4</td>\n",
       "      <td>3</td>\n",
       "      <td>...</td>\n",
       "      <td>3</td>\n",
       "      <td>2</td>\n",
       "      <td>4</td>\n",
       "      <td>3</td>\n",
       "      <td>2</td>\n",
       "      <td>4</td>\n",
       "      <td>3</td>\n",
       "      <td>0</td>\n",
       "      <td>0.0</td>\n",
       "      <td>dissatisfied</td>\n",
       "    </tr>\n",
       "    <tr>\n",
       "      <th>4</th>\n",
       "      <td>Female</td>\n",
       "      <td>Loyal Customer</td>\n",
       "      <td>34</td>\n",
       "      <td>Business travel</td>\n",
       "      <td>Business</td>\n",
       "      <td>2864</td>\n",
       "      <td>3</td>\n",
       "      <td>5</td>\n",
       "      <td>4</td>\n",
       "      <td>4</td>\n",
       "      <td>...</td>\n",
       "      <td>1</td>\n",
       "      <td>1</td>\n",
       "      <td>1</td>\n",
       "      <td>3</td>\n",
       "      <td>4</td>\n",
       "      <td>1</td>\n",
       "      <td>1</td>\n",
       "      <td>21</td>\n",
       "      <td>19.0</td>\n",
       "      <td>dissatisfied</td>\n",
       "    </tr>\n",
       "  </tbody>\n",
       "</table>\n",
       "<p>5 rows × 23 columns</p>\n",
       "</div>"
      ],
      "text/plain": [
       "   Gender      Customer Type  Age   Type of Travel     Class  Flight Distance  \\\n",
       "0  Female     Loyal Customer   65  Personal Travel       Eco              360   \n",
       "1    Male     Loyal Customer   13  Personal Travel       Eco             2991   \n",
       "2  Female     Loyal Customer   58  Business travel  Business             1903   \n",
       "3  Female  disloyal Customer   27  Business travel  Business             2813   \n",
       "4  Female     Loyal Customer   34  Business travel  Business             2864   \n",
       "\n",
       "   Seat comfort  Departure/Arrival time convenient  Food and drink  \\\n",
       "0             4                                  4               4   \n",
       "1             1                                  5               1   \n",
       "2             3                                  3               3   \n",
       "3             4                                  4               4   \n",
       "4             3                                  5               4   \n",
       "\n",
       "   Gate location  ...  Ease of Online booking  On-board service  \\\n",
       "0              4  ...                       5                 5   \n",
       "1              4  ...                       5                 4   \n",
       "2              3  ...                       3                 3   \n",
       "3              3  ...                       3                 2   \n",
       "4              4  ...                       1                 1   \n",
       "\n",
       "   Leg room service  Baggage handling  Checkin service  Cleanliness  \\\n",
       "0                 5                 5                3            5   \n",
       "1                 2                 4                3            4   \n",
       "2                 3                 3                1            3   \n",
       "3                 4                 3                2            4   \n",
       "4                 1                 3                4            1   \n",
       "\n",
       "   Online boarding  Departure Delay in Minutes  Arrival Delay in Minutes  \\\n",
       "0                3                           0                       0.0   \n",
       "1                5                           0                       5.0   \n",
       "2                4                           0                       0.0   \n",
       "3                3                           0                       0.0   \n",
       "4                1                          21                      19.0   \n",
       "\n",
       "   satisfaction  \n",
       "0     satisfied  \n",
       "1  dissatisfied  \n",
       "2  dissatisfied  \n",
       "3  dissatisfied  \n",
       "4  dissatisfied  \n",
       "\n",
       "[5 rows x 23 columns]"
      ]
     },
     "execution_count": 3,
     "metadata": {},
     "output_type": "execute_result"
    }
   ],
   "source": [
    "data = pd.read_csv('Part1_Invistico_Airline.csv')\n",
    "data.head()"
   ]
  },
  {
   "cell_type": "markdown",
   "id": "b1084a9e",
   "metadata": {
    "papermill": {
     "duration": 0.023135,
     "end_time": "2021-10-30T13:27:03.042302",
     "exception": false,
     "start_time": "2021-10-30T13:27:03.019167",
     "status": "completed"
    },
    "tags": []
   },
   "source": [
    "We have 103905 customer experience data. In this data, we have some information about customers (age, gender, etc.) and flight (departure time, seat comfort, etc.). We will use these data to set a logistic regression algorithm and to classify customer satisfaction. But before we do this we need to learn more about our data. Let's start by checking the empty values."
   ]
  },
  {
   "cell_type": "code",
   "execution_count": 4,
   "id": "70b5489c",
   "metadata": {
    "execution": {
     "iopub.execute_input": "2021-10-30T13:27:03.093411Z",
     "iopub.status.busy": "2021-10-30T13:27:03.092409Z",
     "iopub.status.idle": "2021-10-30T13:27:03.134805Z",
     "shell.execute_reply": "2021-10-30T13:27:03.135293Z",
     "shell.execute_reply.started": "2021-10-30T13:15:32.929845Z"
    },
    "papermill": {
     "duration": 0.070232,
     "end_time": "2021-10-30T13:27:03.135468",
     "exception": false,
     "start_time": "2021-10-30T13:27:03.065236",
     "status": "completed"
    },
    "tags": []
   },
   "outputs": [
    {
     "data": {
      "text/plain": [
       "Gender                                 0\n",
       "Customer Type                          0\n",
       "Age                                    0\n",
       "Type of Travel                         0\n",
       "Class                                  0\n",
       "Flight Distance                        0\n",
       "Seat comfort                           0\n",
       "Departure/Arrival time convenient      0\n",
       "Food and drink                         0\n",
       "Gate location                          0\n",
       "Inflight wifi service                  0\n",
       "Inflight entertainment                 0\n",
       "Online support                         0\n",
       "Ease of Online booking                 0\n",
       "On-board service                       0\n",
       "Leg room service                       0\n",
       "Baggage handling                       0\n",
       "Checkin service                        0\n",
       "Cleanliness                            0\n",
       "Online boarding                        0\n",
       "Departure Delay in Minutes             0\n",
       "Arrival Delay in Minutes             313\n",
       "satisfaction                           0\n",
       "dtype: int64"
      ]
     },
     "execution_count": 4,
     "metadata": {},
     "output_type": "execute_result"
    }
   ],
   "source": [
    "data.isna().sum()"
   ]
  },
  {
   "cell_type": "markdown",
   "id": "b36a5623",
   "metadata": {
    "papermill": {
     "duration": 0.021321,
     "end_time": "2021-10-30T13:27:03.179578",
     "exception": false,
     "start_time": "2021-10-30T13:27:03.158257",
     "status": "completed"
    },
    "tags": []
   },
   "source": [
    "In the pandas library, there is a method named isna. This method allows you to check the data has any null values or not. If you combine this method with another method which is sum, you can see the total number of null values in a column. If you check the results of this code you can see that we have 313 null values in the 'Arrival Delay in Minutes' column. There are too many methods to handle null values. In this example, we will use the median of the column to fill null values, and let's check null values again."
   ]
  },
  {
   "cell_type": "code",
   "execution_count": 5,
   "id": "1db36965",
   "metadata": {
    "execution": {
     "iopub.execute_input": "2021-10-30T13:27:03.231070Z",
     "iopub.status.busy": "2021-10-30T13:27:03.230330Z",
     "iopub.status.idle": "2021-10-30T13:27:03.275564Z",
     "shell.execute_reply": "2021-10-30T13:27:03.276128Z",
     "shell.execute_reply.started": "2021-10-30T13:15:33.017382Z"
    },
    "papermill": {
     "duration": 0.075179,
     "end_time": "2021-10-30T13:27:03.276351",
     "exception": false,
     "start_time": "2021-10-30T13:27:03.201172",
     "status": "completed"
    },
    "tags": []
   },
   "outputs": [
    {
     "data": {
      "text/plain": [
       "Gender                               0\n",
       "Customer Type                        0\n",
       "Age                                  0\n",
       "Type of Travel                       0\n",
       "Class                                0\n",
       "Flight Distance                      0\n",
       "Seat comfort                         0\n",
       "Departure/Arrival time convenient    0\n",
       "Food and drink                       0\n",
       "Gate location                        0\n",
       "Inflight wifi service                0\n",
       "Inflight entertainment               0\n",
       "Online support                       0\n",
       "Ease of Online booking               0\n",
       "On-board service                     0\n",
       "Leg room service                     0\n",
       "Baggage handling                     0\n",
       "Checkin service                      0\n",
       "Cleanliness                          0\n",
       "Online boarding                      0\n",
       "Departure Delay in Minutes           0\n",
       "Arrival Delay in Minutes             0\n",
       "satisfaction                         0\n",
       "dtype: int64"
      ]
     },
     "execution_count": 5,
     "metadata": {},
     "output_type": "execute_result"
    }
   ],
   "source": [
    "data['Arrival Delay in Minutes'] = data['Arrival Delay in Minutes'].fillna(data['Arrival Delay in Minutes'].median())\n",
    "data.isna().sum()"
   ]
  },
  {
   "cell_type": "markdown",
   "id": "d2b1fb58",
   "metadata": {
    "papermill": {
     "duration": 0.02287,
     "end_time": "2021-10-30T13:27:03.323932",
     "exception": false,
     "start_time": "2021-10-30T13:27:03.301062",
     "status": "completed"
    },
    "tags": []
   },
   "source": [
    "If you check our data, some of our columns have numeric values and some of them have categorical values. We have to apply some other data preprocessing methods to prepare this data for our logistic regression algorithm. But to do this, we need to learn the data type of all of our columns. Let's create 2 methods for this and run them to see the outputs of these methods. "
   ]
  },
  {
   "cell_type": "code",
   "execution_count": 6,
   "id": "9c757419",
   "metadata": {
    "execution": {
     "iopub.execute_input": "2021-10-30T13:27:03.377229Z",
     "iopub.status.busy": "2021-10-30T13:27:03.376367Z",
     "iopub.status.idle": "2021-10-30T13:27:03.378652Z",
     "shell.execute_reply": "2021-10-30T13:27:03.378041Z",
     "shell.execute_reply.started": "2021-10-30T13:15:33.11472Z"
    },
    "papermill": {
     "duration": 0.031524,
     "end_time": "2021-10-30T13:27:03.378850",
     "exception": false,
     "start_time": "2021-10-30T13:27:03.347326",
     "status": "completed"
    },
    "tags": []
   },
   "outputs": [],
   "source": [
    "def object_cols(df):\n",
    "    return list(df.select_dtypes(include='object').columns)\n",
    "\n",
    "def numerical_cols(df):\n",
    "    return list(df.select_dtypes(exclude='object').columns)"
   ]
  },
  {
   "cell_type": "code",
   "execution_count": 7,
   "id": "43fa3e94",
   "metadata": {
    "execution": {
     "iopub.execute_input": "2021-10-30T13:27:03.431260Z",
     "iopub.status.busy": "2021-10-30T13:27:03.430591Z",
     "iopub.status.idle": "2021-10-30T13:27:03.455454Z",
     "shell.execute_reply": "2021-10-30T13:27:03.455966Z",
     "shell.execute_reply.started": "2021-10-30T13:15:33.120995Z"
    },
    "papermill": {
     "duration": 0.050648,
     "end_time": "2021-10-30T13:27:03.456139",
     "exception": false,
     "start_time": "2021-10-30T13:27:03.405491",
     "status": "completed"
    },
    "tags": []
   },
   "outputs": [],
   "source": [
    "obj_col = object_cols(data)\n",
    "num_col = numerical_cols(data)"
   ]
  },
  {
   "cell_type": "code",
   "execution_count": 8,
   "id": "88b5e100",
   "metadata": {
    "execution": {
     "iopub.execute_input": "2021-10-30T13:27:03.504402Z",
     "iopub.status.busy": "2021-10-30T13:27:03.503393Z",
     "iopub.status.idle": "2021-10-30T13:27:03.511801Z",
     "shell.execute_reply": "2021-10-30T13:27:03.512491Z",
     "shell.execute_reply.started": "2021-10-30T13:15:33.161205Z"
    },
    "papermill": {
     "duration": 0.034429,
     "end_time": "2021-10-30T13:27:03.512679",
     "exception": false,
     "start_time": "2021-10-30T13:27:03.478250",
     "status": "completed"
    },
    "tags": []
   },
   "outputs": [
    {
     "data": {
      "text/plain": [
       "['Gender', 'Customer Type', 'Type of Travel', 'Class', 'satisfaction']"
      ]
     },
     "execution_count": 8,
     "metadata": {},
     "output_type": "execute_result"
    }
   ],
   "source": [
    "obj_col"
   ]
  },
  {
   "cell_type": "code",
   "execution_count": 9,
   "id": "a67a601b",
   "metadata": {
    "execution": {
     "iopub.execute_input": "2021-10-30T13:27:03.562423Z",
     "iopub.status.busy": "2021-10-30T13:27:03.561790Z",
     "iopub.status.idle": "2021-10-30T13:27:03.566552Z",
     "shell.execute_reply": "2021-10-30T13:27:03.567088Z",
     "shell.execute_reply.started": "2021-10-30T13:15:33.169871Z"
    },
    "papermill": {
     "duration": 0.031425,
     "end_time": "2021-10-30T13:27:03.567262",
     "exception": false,
     "start_time": "2021-10-30T13:27:03.535837",
     "status": "completed"
    },
    "tags": []
   },
   "outputs": [
    {
     "data": {
      "text/plain": [
       "['Age',\n",
       " 'Flight Distance',\n",
       " 'Seat comfort',\n",
       " 'Departure/Arrival time convenient',\n",
       " 'Food and drink',\n",
       " 'Gate location',\n",
       " 'Inflight wifi service',\n",
       " 'Inflight entertainment',\n",
       " 'Online support',\n",
       " 'Ease of Online booking',\n",
       " 'On-board service',\n",
       " 'Leg room service',\n",
       " 'Baggage handling',\n",
       " 'Checkin service',\n",
       " 'Cleanliness',\n",
       " 'Online boarding',\n",
       " 'Departure Delay in Minutes',\n",
       " 'Arrival Delay in Minutes']"
      ]
     },
     "execution_count": 9,
     "metadata": {},
     "output_type": "execute_result"
    }
   ],
   "source": [
    "num_col"
   ]
  },
  {
   "cell_type": "markdown",
   "id": "c85983db",
   "metadata": {
    "papermill": {
     "duration": 0.022812,
     "end_time": "2021-10-30T13:27:03.613080",
     "exception": false,
     "start_time": "2021-10-30T13:27:03.590268",
     "status": "completed"
    },
    "tags": []
   },
   "source": [
    "Now we have two different lists. One of them has the names of categorical columns. The name of this list is obj_col. To work with categorical variables we need to encode them. To encode categorical values let's call the LabelEncoder method of sklearn. The second list which is num_col has the names of columns that include numerical values. We can normalize these values by using Normalize method of sklearn. Once we apply these two preprocessing methods to our data, we will be ready for Logistic Regression. "
   ]
  },
  {
   "cell_type": "code",
   "execution_count": 10,
   "id": "306574af",
   "metadata": {
    "execution": {
     "iopub.execute_input": "2021-10-30T13:27:03.662972Z",
     "iopub.status.busy": "2021-10-30T13:27:03.662232Z",
     "iopub.status.idle": "2021-10-30T13:27:03.665414Z",
     "shell.execute_reply": "2021-10-30T13:27:03.665929Z",
     "shell.execute_reply.started": "2021-10-30T13:15:33.184254Z"
    },
    "papermill": {
     "duration": 0.029723,
     "end_time": "2021-10-30T13:27:03.666109",
     "exception": false,
     "start_time": "2021-10-30T13:27:03.636386",
     "status": "completed"
    },
    "tags": []
   },
   "outputs": [],
   "source": [
    "le = LabelEncoder()\n",
    "norm = Normalizer()"
   ]
  },
  {
   "cell_type": "code",
   "execution_count": 11,
   "id": "84b5eecf",
   "metadata": {
    "execution": {
     "iopub.execute_input": "2021-10-30T13:27:03.714358Z",
     "iopub.status.busy": "2021-10-30T13:27:03.713704Z",
     "iopub.status.idle": "2021-10-30T13:27:03.839898Z",
     "shell.execute_reply": "2021-10-30T13:27:03.839349Z",
     "shell.execute_reply.started": "2021-10-30T13:15:33.193659Z"
    },
    "papermill": {
     "duration": 0.151459,
     "end_time": "2021-10-30T13:27:03.840067",
     "exception": false,
     "start_time": "2021-10-30T13:27:03.688608",
     "status": "completed"
    },
    "tags": []
   },
   "outputs": [],
   "source": [
    "for col in obj_col:\n",
    "    data[col] = le.fit_transform(data[col])"
   ]
  },
  {
   "cell_type": "code",
   "execution_count": 12,
   "id": "8ac1b55f",
   "metadata": {
    "execution": {
     "iopub.execute_input": "2021-10-30T13:27:03.891877Z",
     "iopub.status.busy": "2021-10-30T13:27:03.891238Z",
     "iopub.status.idle": "2021-10-30T13:27:03.903109Z",
     "shell.execute_reply": "2021-10-30T13:27:03.902534Z",
     "shell.execute_reply.started": "2021-10-30T13:15:33.44099Z"
    },
    "papermill": {
     "duration": 0.039531,
     "end_time": "2021-10-30T13:27:03.903249",
     "exception": false,
     "start_time": "2021-10-30T13:27:03.863718",
     "status": "completed"
    },
    "tags": []
   },
   "outputs": [
    {
     "data": {
      "text/plain": [
       "Gender                               0\n",
       "Customer Type                        0\n",
       "Age                                  0\n",
       "Type of Travel                       0\n",
       "Class                                0\n",
       "Flight Distance                      0\n",
       "Seat comfort                         0\n",
       "Departure/Arrival time convenient    0\n",
       "Food and drink                       0\n",
       "Gate location                        0\n",
       "Inflight wifi service                0\n",
       "Inflight entertainment               0\n",
       "Online support                       0\n",
       "Ease of Online booking               0\n",
       "On-board service                     0\n",
       "Leg room service                     0\n",
       "Baggage handling                     0\n",
       "Checkin service                      0\n",
       "Cleanliness                          0\n",
       "Online boarding                      0\n",
       "Departure Delay in Minutes           0\n",
       "Arrival Delay in Minutes             0\n",
       "satisfaction                         0\n",
       "dtype: int64"
      ]
     },
     "execution_count": 12,
     "metadata": {},
     "output_type": "execute_result"
    }
   ],
   "source": [
    "data.isna().sum()"
   ]
  },
  {
   "cell_type": "code",
   "execution_count": 13,
   "id": "f5395547",
   "metadata": {
    "execution": {
     "iopub.execute_input": "2021-10-30T13:27:03.956767Z",
     "iopub.status.busy": "2021-10-30T13:27:03.956079Z",
     "iopub.status.idle": "2021-10-30T13:27:04.082321Z",
     "shell.execute_reply": "2021-10-30T13:27:04.081679Z",
     "shell.execute_reply.started": "2021-10-30T13:15:33.458582Z"
    },
    "papermill": {
     "duration": 0.15483,
     "end_time": "2021-10-30T13:27:04.082485",
     "exception": false,
     "start_time": "2021-10-30T13:27:03.927655",
     "status": "completed"
    },
    "tags": []
   },
   "outputs": [],
   "source": [
    "data[num_col] = norm.fit_transform(data[num_col])"
   ]
  },
  {
   "cell_type": "code",
   "execution_count": 14,
   "id": "0750cd0a",
   "metadata": {
    "execution": {
     "iopub.execute_input": "2021-10-30T13:27:04.136302Z",
     "iopub.status.busy": "2021-10-30T13:27:04.135306Z",
     "iopub.status.idle": "2021-10-30T13:27:04.159761Z",
     "shell.execute_reply": "2021-10-30T13:27:04.159222Z",
     "shell.execute_reply.started": "2021-10-30T13:15:33.572853Z"
    },
    "papermill": {
     "duration": 0.05196,
     "end_time": "2021-10-30T13:27:04.159928",
     "exception": false,
     "start_time": "2021-10-30T13:27:04.107968",
     "status": "completed"
    },
    "tags": []
   },
   "outputs": [
    {
     "data": {
      "text/html": [
       "<div>\n",
       "<style scoped>\n",
       "    .dataframe tbody tr th:only-of-type {\n",
       "        vertical-align: middle;\n",
       "    }\n",
       "\n",
       "    .dataframe tbody tr th {\n",
       "        vertical-align: top;\n",
       "    }\n",
       "\n",
       "    .dataframe thead th {\n",
       "        text-align: right;\n",
       "    }\n",
       "</style>\n",
       "<table border=\"1\" class=\"dataframe\">\n",
       "  <thead>\n",
       "    <tr style=\"text-align: right;\">\n",
       "      <th></th>\n",
       "      <th>Gender</th>\n",
       "      <th>Customer Type</th>\n",
       "      <th>Age</th>\n",
       "      <th>Type of Travel</th>\n",
       "      <th>Class</th>\n",
       "      <th>Flight Distance</th>\n",
       "      <th>Seat comfort</th>\n",
       "      <th>Departure/Arrival time convenient</th>\n",
       "      <th>Food and drink</th>\n",
       "      <th>Gate location</th>\n",
       "      <th>...</th>\n",
       "      <th>Ease of Online booking</th>\n",
       "      <th>On-board service</th>\n",
       "      <th>Leg room service</th>\n",
       "      <th>Baggage handling</th>\n",
       "      <th>Checkin service</th>\n",
       "      <th>Cleanliness</th>\n",
       "      <th>Online boarding</th>\n",
       "      <th>Departure Delay in Minutes</th>\n",
       "      <th>Arrival Delay in Minutes</th>\n",
       "      <th>satisfaction</th>\n",
       "    </tr>\n",
       "  </thead>\n",
       "  <tbody>\n",
       "    <tr>\n",
       "      <th>0</th>\n",
       "      <td>0</td>\n",
       "      <td>0</td>\n",
       "      <td>0.177518</td>\n",
       "      <td>1</td>\n",
       "      <td>1</td>\n",
       "      <td>0.983177</td>\n",
       "      <td>0.010924</td>\n",
       "      <td>0.010924</td>\n",
       "      <td>0.010924</td>\n",
       "      <td>0.010924</td>\n",
       "      <td>...</td>\n",
       "      <td>0.013655</td>\n",
       "      <td>0.013655</td>\n",
       "      <td>0.013655</td>\n",
       "      <td>0.013655</td>\n",
       "      <td>0.008193</td>\n",
       "      <td>0.013655</td>\n",
       "      <td>0.008193</td>\n",
       "      <td>0.000000</td>\n",
       "      <td>0.000000</td>\n",
       "      <td>1</td>\n",
       "    </tr>\n",
       "    <tr>\n",
       "      <th>1</th>\n",
       "      <td>1</td>\n",
       "      <td>0</td>\n",
       "      <td>0.004346</td>\n",
       "      <td>1</td>\n",
       "      <td>1</td>\n",
       "      <td>0.999978</td>\n",
       "      <td>0.000334</td>\n",
       "      <td>0.001672</td>\n",
       "      <td>0.000334</td>\n",
       "      <td>0.001337</td>\n",
       "      <td>...</td>\n",
       "      <td>0.001672</td>\n",
       "      <td>0.001337</td>\n",
       "      <td>0.000669</td>\n",
       "      <td>0.001337</td>\n",
       "      <td>0.001003</td>\n",
       "      <td>0.001337</td>\n",
       "      <td>0.001672</td>\n",
       "      <td>0.000000</td>\n",
       "      <td>0.001672</td>\n",
       "      <td>0</td>\n",
       "    </tr>\n",
       "    <tr>\n",
       "      <th>2</th>\n",
       "      <td>0</td>\n",
       "      <td>0</td>\n",
       "      <td>0.030463</td>\n",
       "      <td>0</td>\n",
       "      <td>0</td>\n",
       "      <td>0.999514</td>\n",
       "      <td>0.001576</td>\n",
       "      <td>0.001576</td>\n",
       "      <td>0.001576</td>\n",
       "      <td>0.001576</td>\n",
       "      <td>...</td>\n",
       "      <td>0.001576</td>\n",
       "      <td>0.001576</td>\n",
       "      <td>0.001576</td>\n",
       "      <td>0.001576</td>\n",
       "      <td>0.000525</td>\n",
       "      <td>0.001576</td>\n",
       "      <td>0.002101</td>\n",
       "      <td>0.000000</td>\n",
       "      <td>0.000000</td>\n",
       "      <td>0</td>\n",
       "    </tr>\n",
       "    <tr>\n",
       "      <th>3</th>\n",
       "      <td>0</td>\n",
       "      <td>1</td>\n",
       "      <td>0.009598</td>\n",
       "      <td>0</td>\n",
       "      <td>0</td>\n",
       "      <td>0.999944</td>\n",
       "      <td>0.001422</td>\n",
       "      <td>0.001422</td>\n",
       "      <td>0.001422</td>\n",
       "      <td>0.001066</td>\n",
       "      <td>...</td>\n",
       "      <td>0.001066</td>\n",
       "      <td>0.000711</td>\n",
       "      <td>0.001422</td>\n",
       "      <td>0.001066</td>\n",
       "      <td>0.000711</td>\n",
       "      <td>0.001422</td>\n",
       "      <td>0.001066</td>\n",
       "      <td>0.000000</td>\n",
       "      <td>0.000000</td>\n",
       "      <td>0</td>\n",
       "    </tr>\n",
       "    <tr>\n",
       "      <th>4</th>\n",
       "      <td>0</td>\n",
       "      <td>0</td>\n",
       "      <td>0.011870</td>\n",
       "      <td>0</td>\n",
       "      <td>0</td>\n",
       "      <td>0.999873</td>\n",
       "      <td>0.001047</td>\n",
       "      <td>0.001746</td>\n",
       "      <td>0.001396</td>\n",
       "      <td>0.001396</td>\n",
       "      <td>...</td>\n",
       "      <td>0.000349</td>\n",
       "      <td>0.000349</td>\n",
       "      <td>0.000349</td>\n",
       "      <td>0.001047</td>\n",
       "      <td>0.001396</td>\n",
       "      <td>0.000349</td>\n",
       "      <td>0.000349</td>\n",
       "      <td>0.007331</td>\n",
       "      <td>0.006633</td>\n",
       "      <td>0</td>\n",
       "    </tr>\n",
       "  </tbody>\n",
       "</table>\n",
       "<p>5 rows × 23 columns</p>\n",
       "</div>"
      ],
      "text/plain": [
       "   Gender  Customer Type       Age  Type of Travel  Class  Flight Distance  \\\n",
       "0       0              0  0.177518               1      1         0.983177   \n",
       "1       1              0  0.004346               1      1         0.999978   \n",
       "2       0              0  0.030463               0      0         0.999514   \n",
       "3       0              1  0.009598               0      0         0.999944   \n",
       "4       0              0  0.011870               0      0         0.999873   \n",
       "\n",
       "   Seat comfort  Departure/Arrival time convenient  Food and drink  \\\n",
       "0      0.010924                           0.010924        0.010924   \n",
       "1      0.000334                           0.001672        0.000334   \n",
       "2      0.001576                           0.001576        0.001576   \n",
       "3      0.001422                           0.001422        0.001422   \n",
       "4      0.001047                           0.001746        0.001396   \n",
       "\n",
       "   Gate location  ...  Ease of Online booking  On-board service  \\\n",
       "0       0.010924  ...                0.013655          0.013655   \n",
       "1       0.001337  ...                0.001672          0.001337   \n",
       "2       0.001576  ...                0.001576          0.001576   \n",
       "3       0.001066  ...                0.001066          0.000711   \n",
       "4       0.001396  ...                0.000349          0.000349   \n",
       "\n",
       "   Leg room service  Baggage handling  Checkin service  Cleanliness  \\\n",
       "0          0.013655          0.013655         0.008193     0.013655   \n",
       "1          0.000669          0.001337         0.001003     0.001337   \n",
       "2          0.001576          0.001576         0.000525     0.001576   \n",
       "3          0.001422          0.001066         0.000711     0.001422   \n",
       "4          0.000349          0.001047         0.001396     0.000349   \n",
       "\n",
       "   Online boarding  Departure Delay in Minutes  Arrival Delay in Minutes  \\\n",
       "0         0.008193                    0.000000                  0.000000   \n",
       "1         0.001672                    0.000000                  0.001672   \n",
       "2         0.002101                    0.000000                  0.000000   \n",
       "3         0.001066                    0.000000                  0.000000   \n",
       "4         0.000349                    0.007331                  0.006633   \n",
       "\n",
       "   satisfaction  \n",
       "0             1  \n",
       "1             0  \n",
       "2             0  \n",
       "3             0  \n",
       "4             0  \n",
       "\n",
       "[5 rows x 23 columns]"
      ]
     },
     "execution_count": 14,
     "metadata": {},
     "output_type": "execute_result"
    }
   ],
   "source": [
    "data.head()"
   ]
  },
  {
   "cell_type": "markdown",
   "id": "7c1f253d",
   "metadata": {
    "papermill": {
     "duration": 0.025355,
     "end_time": "2021-10-30T13:27:04.209950",
     "exception": false,
     "start_time": "2021-10-30T13:27:04.184595",
     "status": "completed"
    },
    "tags": []
   },
   "source": [
    "We all are set. So far we have read data about customer's flight experience. After then we applied some preprocessing steps to these data to make our data ready for logistic regression. Now we are ready to create a logistic regression model. Let's split our data into two data frames such as train and test by using train_test_split method of sklearn. "
   ]
  },
  {
   "cell_type": "code",
   "execution_count": 15,
   "id": "5d9c74ec",
   "metadata": {
    "execution": {
     "iopub.execute_input": "2021-10-30T13:27:04.261330Z",
     "iopub.status.busy": "2021-10-30T13:27:04.260334Z",
     "iopub.status.idle": "2021-10-30T13:27:04.279869Z",
     "shell.execute_reply": "2021-10-30T13:27:04.280394Z",
     "shell.execute_reply.started": "2021-10-30T13:15:33.603009Z"
    },
    "papermill": {
     "duration": 0.046848,
     "end_time": "2021-10-30T13:27:04.280585",
     "exception": false,
     "start_time": "2021-10-30T13:27:04.233737",
     "status": "completed"
    },
    "tags": []
   },
   "outputs": [],
   "source": [
    "X_data = data.drop(['satisfaction'], axis = 1)\n",
    "y_data = data['satisfaction']"
   ]
  },
  {
   "cell_type": "code",
   "execution_count": 16,
   "id": "1055d009",
   "metadata": {
    "execution": {
     "iopub.execute_input": "2021-10-30T13:27:04.331667Z",
     "iopub.status.busy": "2021-10-30T13:27:04.330720Z",
     "iopub.status.idle": "2021-10-30T13:27:04.369598Z",
     "shell.execute_reply": "2021-10-30T13:27:04.368929Z",
     "shell.execute_reply.started": "2021-10-30T13:15:33.622447Z"
    },
    "papermill": {
     "duration": 0.06559,
     "end_time": "2021-10-30T13:27:04.369787",
     "exception": false,
     "start_time": "2021-10-30T13:27:04.304197",
     "status": "completed"
    },
    "tags": []
   },
   "outputs": [],
   "source": [
    "X_train, X_test, y_train, y_test = train_test_split(\n",
    "    X_data, y_data, test_size=0.33, random_state=42)"
   ]
  },
  {
   "cell_type": "markdown",
   "id": "9a404567",
   "metadata": {
    "papermill": {
     "duration": 0.02415,
     "end_time": "2021-10-30T13:27:04.418898",
     "exception": false,
     "start_time": "2021-10-30T13:27:04.394748",
     "status": "completed"
    },
    "tags": []
   },
   "source": [
    "We did everything to make classifications by using logistic regression. Let's create a logistic regression instance firstly. Then fit it by using the split data. Once our model is ready, call the predict method to make classifications and check some of the results."
   ]
  },
  {
   "cell_type": "code",
   "execution_count": 17,
   "id": "1c169cdf",
   "metadata": {
    "execution": {
     "iopub.execute_input": "2021-10-30T13:27:04.473685Z",
     "iopub.status.busy": "2021-10-30T13:27:04.472665Z",
     "iopub.status.idle": "2021-10-30T13:27:04.476635Z",
     "shell.execute_reply": "2021-10-30T13:27:04.477244Z",
     "shell.execute_reply.started": "2021-10-30T13:15:33.657899Z"
    },
    "papermill": {
     "duration": 0.033414,
     "end_time": "2021-10-30T13:27:04.477425",
     "exception": false,
     "start_time": "2021-10-30T13:27:04.444011",
     "status": "completed"
    },
    "tags": []
   },
   "outputs": [],
   "source": [
    "log_reg = LogisticRegression()"
   ]
  },
  {
   "cell_type": "code",
   "execution_count": 18,
   "id": "2fcdd7c5",
   "metadata": {
    "execution": {
     "iopub.execute_input": "2021-10-30T13:27:04.531599Z",
     "iopub.status.busy": "2021-10-30T13:27:04.530625Z",
     "iopub.status.idle": "2021-10-30T13:27:06.369473Z",
     "shell.execute_reply": "2021-10-30T13:27:06.370442Z",
     "shell.execute_reply.started": "2021-10-30T13:15:33.663955Z"
    },
    "papermill": {
     "duration": 1.867402,
     "end_time": "2021-10-30T13:27:06.370735",
     "exception": false,
     "start_time": "2021-10-30T13:27:04.503333",
     "status": "completed"
    },
    "tags": []
   },
   "outputs": [
    {
     "name": "stderr",
     "output_type": "stream",
     "text": [
      "C:\\ProgramData\\Anaconda3\\lib\\site-packages\\sklearn\\linear_model\\_logistic.py:763: ConvergenceWarning: lbfgs failed to converge (status=1):\n",
      "STOP: TOTAL NO. of ITERATIONS REACHED LIMIT.\n",
      "\n",
      "Increase the number of iterations (max_iter) or scale the data as shown in:\n",
      "    https://scikit-learn.org/stable/modules/preprocessing.html\n",
      "Please also refer to the documentation for alternative solver options:\n",
      "    https://scikit-learn.org/stable/modules/linear_model.html#logistic-regression\n",
      "  n_iter_i = _check_optimize_result(\n"
     ]
    }
   ],
   "source": [
    "fit_model = log_reg.fit(X_train, y_train)"
   ]
  },
  {
   "cell_type": "code",
   "execution_count": 19,
   "id": "d1f8ec96",
   "metadata": {
    "execution": {
     "iopub.execute_input": "2021-10-30T13:27:06.487155Z",
     "iopub.status.busy": "2021-10-30T13:27:06.486066Z",
     "iopub.status.idle": "2021-10-30T13:27:06.491908Z",
     "shell.execute_reply": "2021-10-30T13:27:06.493360Z",
     "shell.execute_reply.started": "2021-10-30T13:15:35.419413Z"
    },
    "papermill": {
     "duration": 0.071424,
     "end_time": "2021-10-30T13:27:06.493639",
     "exception": false,
     "start_time": "2021-10-30T13:27:06.422215",
     "status": "completed"
    },
    "tags": []
   },
   "outputs": [],
   "source": [
    "preds = fit_model.predict(X_test)"
   ]
  },
  {
   "cell_type": "code",
   "execution_count": 20,
   "id": "a2e4ae76",
   "metadata": {
    "execution": {
     "iopub.execute_input": "2021-10-30T13:27:06.602232Z",
     "iopub.status.busy": "2021-10-30T13:27:06.600920Z",
     "iopub.status.idle": "2021-10-30T13:27:06.605907Z",
     "shell.execute_reply": "2021-10-30T13:27:06.603206Z",
     "shell.execute_reply.started": "2021-10-30T13:15:35.438328Z"
    },
    "papermill": {
     "duration": 0.063702,
     "end_time": "2021-10-30T13:27:06.606159",
     "exception": false,
     "start_time": "2021-10-30T13:27:06.542457",
     "status": "completed"
    },
    "tags": []
   },
   "outputs": [
    {
     "data": {
      "text/plain": [
       "array([1, 0, 1, ..., 1, 0, 1])"
      ]
     },
     "execution_count": 20,
     "metadata": {},
     "output_type": "execute_result"
    }
   ],
   "source": [
    "preds"
   ]
  },
  {
   "cell_type": "markdown",
   "id": "298cd916",
   "metadata": {
    "papermill": {
     "duration": 0.023302,
     "end_time": "2021-10-30T13:27:06.653335",
     "exception": false,
     "start_time": "2021-10-30T13:27:06.630033",
     "status": "completed"
    },
    "tags": []
   },
   "source": [
    "As you can see our model made some classifications as 1 or 0. To classify any point as 1 or 0 the model is using the probabilities and set the output by choosing the high probability. To see the probability values of any data point we can call the predict_proba method of our logistic regression model. Once we have both classified values and related probabilities let's create a dataframe to see everything combined."
   ]
  },
  {
   "cell_type": "code",
   "execution_count": 21,
   "id": "d4b3cecd",
   "metadata": {
    "execution": {
     "iopub.execute_input": "2021-10-30T13:27:06.708674Z",
     "iopub.status.busy": "2021-10-30T13:27:06.707514Z",
     "iopub.status.idle": "2021-10-30T13:27:06.715298Z",
     "shell.execute_reply": "2021-10-30T13:27:06.716248Z",
     "shell.execute_reply.started": "2021-10-30T13:15:35.457627Z"
    },
    "papermill": {
     "duration": 0.039027,
     "end_time": "2021-10-30T13:27:06.716522",
     "exception": false,
     "start_time": "2021-10-30T13:27:06.677495",
     "status": "completed"
    },
    "tags": []
   },
   "outputs": [],
   "source": [
    "probs = fit_model.predict_proba(X_test)"
   ]
  },
  {
   "cell_type": "code",
   "execution_count": 22,
   "id": "0482349d",
   "metadata": {
    "execution": {
     "iopub.execute_input": "2021-10-30T13:27:06.821370Z",
     "iopub.status.busy": "2021-10-30T13:27:06.820285Z",
     "iopub.status.idle": "2021-10-30T13:27:06.824136Z",
     "shell.execute_reply": "2021-10-30T13:27:06.824927Z",
     "shell.execute_reply.started": "2021-10-30T13:15:35.474571Z"
    },
    "papermill": {
     "duration": 0.059928,
     "end_time": "2021-10-30T13:27:06.825211",
     "exception": false,
     "start_time": "2021-10-30T13:27:06.765283",
     "status": "completed"
    },
    "tags": []
   },
   "outputs": [
    {
     "data": {
      "text/plain": [
       "array([[0.15093146, 0.84906854],\n",
       "       [0.64654981, 0.35345019],\n",
       "       [0.39264986, 0.60735014],\n",
       "       ...,\n",
       "       [0.15368394, 0.84631606],\n",
       "       [0.68039437, 0.31960563],\n",
       "       [0.15101003, 0.84898997]])"
      ]
     },
     "execution_count": 22,
     "metadata": {},
     "output_type": "execute_result"
    }
   ],
   "source": [
    "probs"
   ]
  },
  {
   "cell_type": "code",
   "execution_count": 23,
   "id": "04eaa6cd",
   "metadata": {
    "execution": {
     "iopub.execute_input": "2021-10-30T13:27:06.949907Z",
     "iopub.status.busy": "2021-10-30T13:27:06.948933Z",
     "iopub.status.idle": "2021-10-30T13:27:08.503672Z",
     "shell.execute_reply": "2021-10-30T13:27:08.503108Z",
     "shell.execute_reply.started": "2021-10-30T13:15:35.483164Z"
    },
    "papermill": {
     "duration": 1.65202,
     "end_time": "2021-10-30T13:27:08.503827",
     "exception": false,
     "start_time": "2021-10-30T13:27:06.851807",
     "status": "completed"
    },
    "tags": []
   },
   "outputs": [],
   "source": [
    "model_results = pd.DataFrame([preds, y_test, [elem[0] for elem in probs], [elem[1] for elem in probs]])\n",
    "model_results = model_results.T\n",
    "model_results.rename(columns = {0 : 'PredictedClass', 1 : 'TrueClass', 2 : 'ClassProb:0', 3 : 'ClassProb:1'}, inplace = True)"
   ]
  },
  {
   "cell_type": "markdown",
   "id": "8640609d",
   "metadata": {
    "papermill": {
     "duration": 0.02351,
     "end_time": "2021-10-30T13:27:08.552366",
     "exception": false,
     "start_time": "2021-10-30T13:27:08.528856",
     "status": "completed"
    },
    "tags": []
   },
   "source": [
    "We now have prediction results for all of the data points in our X_test dataframe. Any classification algorithm can make any classification by using any data that you use as input. But how can you evaluate the success rate of this algorithm? Let's check the dataframe which we have created. In the first two columns of this dataframe we have predicted and true class values. For any data point, if the predicted class value and true class value are the same, we can call this classification a true classification. If we divide the count of true classifications by the number of all test values, we can find \"accurate classification ratio\". Let's do it!"
   ]
  },
  {
   "cell_type": "code",
   "execution_count": 24,
   "id": "981949ac",
   "metadata": {
    "execution": {
     "iopub.execute_input": "2021-10-30T13:27:08.613737Z",
     "iopub.status.busy": "2021-10-30T13:27:08.613075Z",
     "iopub.status.idle": "2021-10-30T13:27:08.615618Z",
     "shell.execute_reply": "2021-10-30T13:27:08.616096Z",
     "shell.execute_reply.started": "2021-10-30T13:15:37.770242Z"
    },
    "papermill": {
     "duration": 0.039775,
     "end_time": "2021-10-30T13:27:08.616264",
     "exception": false,
     "start_time": "2021-10-30T13:27:08.576489",
     "status": "completed"
    },
    "tags": []
   },
   "outputs": [
    {
     "data": {
      "text/html": [
       "<div>\n",
       "<style scoped>\n",
       "    .dataframe tbody tr th:only-of-type {\n",
       "        vertical-align: middle;\n",
       "    }\n",
       "\n",
       "    .dataframe tbody tr th {\n",
       "        vertical-align: top;\n",
       "    }\n",
       "\n",
       "    .dataframe thead th {\n",
       "        text-align: right;\n",
       "    }\n",
       "</style>\n",
       "<table border=\"1\" class=\"dataframe\">\n",
       "  <thead>\n",
       "    <tr style=\"text-align: right;\">\n",
       "      <th></th>\n",
       "      <th>PredictedClass</th>\n",
       "      <th>TrueClass</th>\n",
       "      <th>ClassProb:0</th>\n",
       "      <th>ClassProb:1</th>\n",
       "    </tr>\n",
       "  </thead>\n",
       "  <tbody>\n",
       "    <tr>\n",
       "      <th>0</th>\n",
       "      <td>1.0</td>\n",
       "      <td>1.0</td>\n",
       "      <td>0.150931</td>\n",
       "      <td>0.849069</td>\n",
       "    </tr>\n",
       "    <tr>\n",
       "      <th>1</th>\n",
       "      <td>0.0</td>\n",
       "      <td>0.0</td>\n",
       "      <td>0.646550</td>\n",
       "      <td>0.353450</td>\n",
       "    </tr>\n",
       "    <tr>\n",
       "      <th>2</th>\n",
       "      <td>1.0</td>\n",
       "      <td>1.0</td>\n",
       "      <td>0.392650</td>\n",
       "      <td>0.607350</td>\n",
       "    </tr>\n",
       "    <tr>\n",
       "      <th>3</th>\n",
       "      <td>1.0</td>\n",
       "      <td>1.0</td>\n",
       "      <td>0.338033</td>\n",
       "      <td>0.661967</td>\n",
       "    </tr>\n",
       "    <tr>\n",
       "      <th>4</th>\n",
       "      <td>0.0</td>\n",
       "      <td>0.0</td>\n",
       "      <td>0.777370</td>\n",
       "      <td>0.222630</td>\n",
       "    </tr>\n",
       "    <tr>\n",
       "      <th>...</th>\n",
       "      <td>...</td>\n",
       "      <td>...</td>\n",
       "      <td>...</td>\n",
       "      <td>...</td>\n",
       "    </tr>\n",
       "    <tr>\n",
       "      <th>34284</th>\n",
       "      <td>1.0</td>\n",
       "      <td>1.0</td>\n",
       "      <td>0.347187</td>\n",
       "      <td>0.652813</td>\n",
       "    </tr>\n",
       "    <tr>\n",
       "      <th>34285</th>\n",
       "      <td>0.0</td>\n",
       "      <td>1.0</td>\n",
       "      <td>0.762796</td>\n",
       "      <td>0.237204</td>\n",
       "    </tr>\n",
       "    <tr>\n",
       "      <th>34286</th>\n",
       "      <td>1.0</td>\n",
       "      <td>0.0</td>\n",
       "      <td>0.153684</td>\n",
       "      <td>0.846316</td>\n",
       "    </tr>\n",
       "    <tr>\n",
       "      <th>34287</th>\n",
       "      <td>0.0</td>\n",
       "      <td>0.0</td>\n",
       "      <td>0.680394</td>\n",
       "      <td>0.319606</td>\n",
       "    </tr>\n",
       "    <tr>\n",
       "      <th>34288</th>\n",
       "      <td>1.0</td>\n",
       "      <td>1.0</td>\n",
       "      <td>0.151010</td>\n",
       "      <td>0.848990</td>\n",
       "    </tr>\n",
       "  </tbody>\n",
       "</table>\n",
       "<p>34289 rows × 4 columns</p>\n",
       "</div>"
      ],
      "text/plain": [
       "       PredictedClass  TrueClass  ClassProb:0  ClassProb:1\n",
       "0                 1.0        1.0     0.150931     0.849069\n",
       "1                 0.0        0.0     0.646550     0.353450\n",
       "2                 1.0        1.0     0.392650     0.607350\n",
       "3                 1.0        1.0     0.338033     0.661967\n",
       "4                 0.0        0.0     0.777370     0.222630\n",
       "...               ...        ...          ...          ...\n",
       "34284             1.0        1.0     0.347187     0.652813\n",
       "34285             0.0        1.0     0.762796     0.237204\n",
       "34286             1.0        0.0     0.153684     0.846316\n",
       "34287             0.0        0.0     0.680394     0.319606\n",
       "34288             1.0        1.0     0.151010     0.848990\n",
       "\n",
       "[34289 rows x 4 columns]"
      ]
     },
     "execution_count": 24,
     "metadata": {},
     "output_type": "execute_result"
    }
   ],
   "source": [
    "model_results"
   ]
  },
  {
   "cell_type": "code",
   "execution_count": 25,
   "id": "383972d8",
   "metadata": {
    "execution": {
     "iopub.execute_input": "2021-10-30T13:27:08.670271Z",
     "iopub.status.busy": "2021-10-30T13:27:08.669585Z",
     "iopub.status.idle": "2021-10-30T13:27:08.688943Z",
     "shell.execute_reply": "2021-10-30T13:27:08.689385Z",
     "shell.execute_reply.started": "2021-10-30T13:15:37.786442Z"
    },
    "papermill": {
     "duration": 0.047551,
     "end_time": "2021-10-30T13:27:08.689564",
     "exception": false,
     "start_time": "2021-10-30T13:27:08.642013",
     "status": "completed"
    },
    "tags": []
   },
   "outputs": [
    {
     "name": "stdout",
     "output_type": "stream",
     "text": [
      "Number of True Classifications = 25819 \n",
      "Accurate Classification Ratio = 0.7529820058911021 \n"
     ]
    }
   ],
   "source": [
    "true_count = 0\n",
    "for pred, real in zip(model_results['PredictedClass'], model_results['TrueClass']):\n",
    "    if pred == real:\n",
    "        true_count = true_count + 1\n",
    "print(\"Number of True Classifications = {0} \".format(true_count))\n",
    "print(\"Accurate Classification Ratio = {0} \".format(true_count / len(y_test)))"
   ]
  },
  {
   "cell_type": "markdown",
   "id": "95d837c5",
   "metadata": {
    "papermill": {
     "duration": 0.024745,
     "end_time": "2021-10-30T13:27:08.739871",
     "exception": false,
     "start_time": "2021-10-30T13:27:08.715126",
     "status": "completed"
    },
    "tags": []
   },
   "source": [
    "The ratio which you can see as \"Accurate Classification Ratio\" is also known as accuracy score. This ratio simply shows you success ratio of your classification algorithm. We now have only one algorithm hence we can not say this algorithm with these parameters (default parameters) is the best one. Let's create another logistic regression algorithm and let's check the accuracy score again to choose one of them as the best one. "
   ]
  },
  {
   "cell_type": "code",
   "execution_count": 26,
   "id": "3f937a15",
   "metadata": {
    "execution": {
     "iopub.execute_input": "2021-10-30T13:27:08.797848Z",
     "iopub.status.busy": "2021-10-30T13:27:08.796711Z",
     "iopub.status.idle": "2021-10-30T13:27:10.387980Z",
     "shell.execute_reply": "2021-10-30T13:27:10.389008Z",
     "shell.execute_reply.started": "2021-10-30T13:15:37.821495Z"
    },
    "papermill": {
     "duration": 1.621954,
     "end_time": "2021-10-30T13:27:10.389307",
     "exception": false,
     "start_time": "2021-10-30T13:27:08.767353",
     "status": "completed"
    },
    "tags": []
   },
   "outputs": [],
   "source": [
    "second_model = LogisticRegression(penalty = 'l2',solver = 'newton-cg' ,C = 10, class_weight = 'balanced')\n",
    "second_fit = second_model.fit(X_train, y_train)"
   ]
  },
  {
   "cell_type": "code",
   "execution_count": 27,
   "id": "def90f07",
   "metadata": {
    "execution": {
     "iopub.execute_input": "2021-10-30T13:27:10.496705Z",
     "iopub.status.busy": "2021-10-30T13:27:10.496059Z",
     "iopub.status.idle": "2021-10-30T13:27:10.514653Z",
     "shell.execute_reply": "2021-10-30T13:27:10.515736Z",
     "shell.execute_reply.started": "2021-10-30T13:15:39.324344Z"
    },
    "papermill": {
     "duration": 0.076401,
     "end_time": "2021-10-30T13:27:10.516056",
     "exception": false,
     "start_time": "2021-10-30T13:27:10.439655",
     "status": "completed"
    },
    "tags": []
   },
   "outputs": [
    {
     "data": {
      "text/plain": [
       "0.767097319840182"
      ]
     },
     "execution_count": 27,
     "metadata": {},
     "output_type": "execute_result"
    }
   ],
   "source": [
    "second_fit.score(X_test, y_test)"
   ]
  }
 ],
 "metadata": {
  "kernelspec": {
   "display_name": "Python 3 (ipykernel)",
   "language": "python",
   "name": "python3"
  },
  "language_info": {
   "codemirror_mode": {
    "name": "ipython",
    "version": 3
   },
   "file_extension": ".py",
   "mimetype": "text/x-python",
   "name": "python",
   "nbconvert_exporter": "python",
   "pygments_lexer": "ipython3",
   "version": "3.9.7"
  },
  "papermill": {
   "default_parameters": {},
   "duration": 18.707201,
   "end_time": "2021-10-30T13:27:11.359783",
   "environment_variables": {},
   "exception": null,
   "input_path": "__notebook__.ipynb",
   "output_path": "__notebook__.ipynb",
   "parameters": {},
   "start_time": "2021-10-30T13:26:52.652582",
   "version": "2.3.3"
  }
 },
 "nbformat": 4,
 "nbformat_minor": 5
}
